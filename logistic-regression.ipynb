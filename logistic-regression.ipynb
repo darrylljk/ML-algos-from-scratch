{
 "cells": [
  {
   "cell_type": "markdown",
   "metadata": {},
   "source": [
    "# Logistic Regression from Scratch"
   ]
  },
  {
   "cell_type": "code",
   "execution_count": 1,
   "metadata": {},
   "outputs": [],
   "source": [
    "import numpy as np\n",
    "from sklearn.model_selection import train_test_split\n",
    "from sklearn.metrics import accuracy_score\n",
    "from sklearn.linear_model import LogisticRegression as SklearnLogisticRegression\n",
    "import matplotlib.pyplot as plt\n",
    "from sklearn.datasets import load_breast_cancer"
   ]
  },
  {
   "cell_type": "code",
   "execution_count": 6,
   "metadata": {},
   "outputs": [],
   "source": [
    "class LogisticRegressionScratch:\n",
    "    def __init__(self, learning_rate=0.01, n_iters=1000):\n",
    "        self.learning_rate = learning_rate\n",
    "        self.n_iters = n_iters\n",
    "        self.weights = None\n",
    "        self.bias = None\n",
    "    \n",
    "    def sigmoid(self, z):\n",
    "        z = np.clip(z, -500, 500)\n",
    "        return 1 / (1 + np.exp(-z))\n",
    "    \n",
    "    def fit(self, X, y):\n",
    "        n_samples, n_features = X.shape\n",
    "        self.weights = np.zeros(n_features) # initialize weights to zeros\n",
    "        self.bias = 0 # initialize bias to 0\n",
    "\n",
    "        # perform gradient descent for specified no of iterations\n",
    "        for _ in range(self.n_iters):\n",
    "            model = np.dot(X, self.weights) + self.bias # linear model prediction // dot product of features and weights+bias\n",
    "            y_pred = self.sigmoid(model) # apply sigmoid to get probabilities\n",
    "\n",
    "            # compute gradient for weights and biases\n",
    "            dw = (1/n_samples) * np.dot(X.T, (y_pred-y)) # gradient wrt weight\n",
    "            db = (1/n_samples) * np.sum(y_pred-y) # gradient wrt bias\n",
    "\n",
    "            # update weights and bias using gradient\n",
    "            self.weights -= self.learning_rate * dw\n",
    "            self.bias -= self.learning_rate * db\n",
    "    \n",
    "    def predict(self, X):\n",
    "        # make predictions using linear model and sigmoid function\n",
    "        model = np.dot(X, self.weights) + self.bias\n",
    "        y_pred = self.sigmoid(model)\n",
    "\n",
    "        # convert probabilities to binary class labels\n",
    "        return [1 if i > 0.5 else 0 for i in y_pred]"
   ]
  },
  {
   "cell_type": "code",
   "execution_count": 7,
   "metadata": {},
   "outputs": [],
   "source": [
    "# load dataset\n",
    "data = load_breast_cancer()\n",
    "X = data.data\n",
    "y = data.target\n",
    "\n",
    "# split data into train and test\n",
    "X_train, X_test, y_train, y_test = train_test_split(X, y, test_size=0.2, random_state=42)"
   ]
  },
  {
   "cell_type": "code",
   "execution_count": 8,
   "metadata": {},
   "outputs": [
    {
     "name": "stdout",
     "output_type": "stream",
     "text": [
      "0.9473684210526315\n"
     ]
    }
   ],
   "source": [
    "# train log reg from scratch\n",
    "log_reg_scratch = LogisticRegressionScratch(learning_rate=0.01, n_iters=1000)\n",
    "log_reg_scratch.fit(X_train, y_train)  # train the model\n",
    "y_pred_scratch = log_reg_scratch.predict(X_test)  # make predictions\n",
    "\n",
    "# calculate accuracy for scratch implementation\n",
    "accuracy_scratch = accuracy_score(y_test, y_pred_scratch)\n",
    "print(accuracy_scratch)"
   ]
  },
  {
   "cell_type": "code",
   "execution_count": 9,
   "metadata": {},
   "outputs": [
    {
     "name": "stdout",
     "output_type": "stream",
     "text": [
      "0.956140350877193\n"
     ]
    },
    {
     "name": "stderr",
     "output_type": "stream",
     "text": [
      "c:\\Users\\sunse\\AppData\\Local\\Programs\\Python\\Python311\\Lib\\site-packages\\sklearn\\linear_model\\_logistic.py:465: ConvergenceWarning: lbfgs failed to converge (status=1):\n",
      "STOP: TOTAL NO. of ITERATIONS REACHED LIMIT.\n",
      "\n",
      "Increase the number of iterations (max_iter) or scale the data as shown in:\n",
      "    https://scikit-learn.org/stable/modules/preprocessing.html\n",
      "Please also refer to the documentation for alternative solver options:\n",
      "    https://scikit-learn.org/stable/modules/linear_model.html#logistic-regression\n",
      "  n_iter_i = _check_optimize_result(\n"
     ]
    }
   ],
   "source": [
    "# train log reg using sklearn\n",
    "log_reg_sklearn = SklearnLogisticRegression(max_iter=1000)\n",
    "log_reg_sklearn.fit(X_train, y_train)\n",
    "y_pred_sklearn = log_reg_sklearn.predict(X_test)\n",
    "\n",
    "# calculate accuracy for sklearn implementation\n",
    "accuracy_sklearn = accuracy_score(y_test, y_pred_sklearn)\n",
    "print(accuracy_sklearn)"
   ]
  }
 ],
 "metadata": {
  "kernelspec": {
   "display_name": "Python 3",
   "language": "python",
   "name": "python3"
  },
  "language_info": {
   "codemirror_mode": {
    "name": "ipython",
    "version": 3
   },
   "file_extension": ".py",
   "mimetype": "text/x-python",
   "name": "python",
   "nbconvert_exporter": "python",
   "pygments_lexer": "ipython3",
   "version": "3.11.0"
  }
 },
 "nbformat": 4,
 "nbformat_minor": 2
}
